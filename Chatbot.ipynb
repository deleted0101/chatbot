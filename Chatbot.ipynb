{
  "nbformat": 4,
  "nbformat_minor": 0,
  "metadata": {
    "colab": {
      "provenance": [],
      "authorship_tag": "ABX9TyP4hj0aqzItqqgjCgcgQcID",
      "include_colab_link": true
    },
    "kernelspec": {
      "name": "python3",
      "display_name": "Python 3"
    },
    "language_info": {
      "name": "python"
    }
  },
  "cells": [
    {
      "cell_type": "markdown",
      "metadata": {
        "id": "view-in-github",
        "colab_type": "text"
      },
      "source": [
        "<a href=\"https://colab.research.google.com/github/Nikosane/chatbot/blob/master/Chatbot.ipynb\" target=\"_parent\"><img src=\"https://colab.research.google.com/assets/colab-badge.svg\" alt=\"Open In Colab\"/></a>"
      ]
    },
    {
      "cell_type": "code",
      "execution_count": 13,
      "metadata": {
        "id": "2PCiKr1wL6Y6",
        "colab": {
          "base_uri": "https://localhost:8080/"
        },
        "outputId": "1dd38e25-cd46-4669-aeeb-1ed73a5a1901"
      },
      "outputs": [
        {
          "output_type": "stream",
          "name": "stdout",
          "text": [
            "[\"'m\", \"'s\", 'AI', 'Afternoon', 'Aloha', 'Any', 'Begin', 'Bonjour', 'Ciao', 'Evening', 'Good', 'Greetings', 'Hallo', 'Hello', 'Hey', 'Hi', 'Hiya', 'Hola', 'How', 'Howdy', 'I', 'Konnichiwa', 'Morning', 'Namaste', 'Salutations', 'Start', 'Sup', 'Talk', 'Tell', 'Wassup', 'Welcome', 'What', 'Yo', 'a', 'afternoon', 'are', 'ask', 'assistance', 'bot', 'bye', 'can', 'chatbot', 'college', 'conversation', 'day', 'do', 'evening', 'friend', 'going', 'goodbye', 'happening', 'have', 'help', 'here', 'it', 'me', 'morning', 'name', 'need', 'new', 'news', 'of', 'query', 'question', 'see', 'something', 'suggest', 'thankyou', 'the', 'there', 'to', 'up', 'you', 'your']\n"
          ]
        },
        {
          "output_type": "stream",
          "name": "stderr",
          "text": [
            "[nltk_data] Downloading package punkt to /root/nltk_data...\n",
            "[nltk_data]   Package punkt is already up-to-date!\n",
            "[nltk_data] Downloading package wordnet to /root/nltk_data...\n",
            "[nltk_data]   Package wordnet is already up-to-date!\n"
          ]
        }
      ],
      "source": [
        "import random\n",
        "import json\n",
        "import numpy as np\n",
        "import pickle\n",
        "\n",
        "import nltk\n",
        "nltk.download('punkt')\n",
        "nltk.download('wordnet')\n",
        "\n",
        "from nltk.stem import WordNetLemmatizer\n",
        "from tensorflow.keras.models import Sequential\n",
        "from tensorflow.keras.layers import Dense, Activation ,Dropout\n",
        "from tensorflow.keras.optimizers import SGD\n",
        "\n",
        "\n",
        "\n",
        "intents = json.loads(open('intents.json').read())\n",
        "\n",
        "words = []\n",
        "classes = []\n",
        "documents = []\n",
        "ignore_letters = ['?','!','.',',']\n",
        "\n",
        "for intent in intents['intents']:\n",
        "  for pattern in intent['patterns']:\n",
        "    word_list = nltk.word_tokenize(pattern)\n",
        "    words.append(word_list)\n",
        "    documents.append((word_list, intent['tag']))\n",
        "    if intent['tag'] not in classes:\n",
        "      classes.append(intent['tag'])\n",
        "\n",
        "lemmatizer = WordNetLemmatizer()\n",
        "words = [lemmatizer.lemmatize(word) for word_list in words for word in word_list if word not in ignore_letters]\n",
        "words = sorted(set(words))\n",
        "\n",
        "\n",
        "print(words)"
      ]
    }
  ]
}